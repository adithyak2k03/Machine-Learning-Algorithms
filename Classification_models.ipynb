{
 "cells": [
  {
   "cell_type": "markdown",
   "id": "099ff55e-c105-4b3e-b1ce-fba1ae7f0961",
   "metadata": {},
   "source": [
    "# Import libraries"
   ]
  },
  {
   "cell_type": "code",
   "execution_count": 36,
   "id": "41761e33-cbef-46b7-be50-375157c4a6d5",
   "metadata": {},
   "outputs": [],
   "source": [
    "import numpy as np\n",
    "import matplotlib.pyplot as plt\n",
    "import pandas as pd\n",
    "import sklearn\n",
    "from sklearn.datasets import load_iris\n",
    "from sklearn.metrics import accuracy_score, precision_score, recall_score, f1_score"
   ]
  },
  {
   "cell_type": "markdown",
   "id": "55bf30e2-eb62-4eab-bc09-e13e0826b779",
   "metadata": {},
   "source": []
  },
  {
   "cell_type": "code",
   "execution_count": 37,
   "id": "a50fa758-c8e7-41f8-acf2-64ea4729dd91",
   "metadata": {
    "scrolled": true
   },
   "outputs": [
    {
     "name": "stdout",
     "output_type": "stream",
     "text": [
      "   Id  SepalLengthCm  SepalWidthCm  PetalLengthCm  PetalWidthCm      Species\n",
      "0   1            5.1           3.5            1.4           0.2  Iris-setosa\n",
      "1   2            4.9           3.0            1.4           0.2  Iris-setosa\n",
      "2   3            4.7           3.2            1.3           0.2  Iris-setosa\n",
      "3   4            4.6           3.1            1.5           0.2  Iris-setosa\n",
      "4   5            5.0           3.6            1.4           0.2  Iris-setosa\n"
     ]
    }
   ],
   "source": [
    "dataset = pd.read_csv(\"Iris.csv\")\n",
    "print(dataset.head())\n",
    "X = dataset.iloc[:, :-1].values\n",
    "y = dataset.iloc[:, -1].values"
   ]
  },
  {
   "cell_type": "markdown",
   "id": "a1d486f0-0b93-4a84-89e3-b2b6814bd956",
   "metadata": {},
   "source": []
  },
  {
   "cell_type": "code",
   "execution_count": 38,
   "id": "30473c38-6ba7-441a-88e3-f5a25d358fb3",
   "metadata": {},
   "outputs": [],
   "source": [
    "from sklearn.preprocessing import LabelEncoder\n",
    "le=LabelEncoder()\n",
    "y=le.fit_transform(y)"
   ]
  },
  {
   "cell_type": "markdown",
   "id": "8a0c69b1-ef12-4c47-8f48-534c997697e6",
   "metadata": {},
   "source": []
  },
  {
   "cell_type": "code",
   "execution_count": 39,
   "id": "aa26142d-f703-454d-8922-d93239c9b7b9",
   "metadata": {},
   "outputs": [],
   "source": [
    "from sklearn.model_selection import train_test_split\n",
    "X_train, X_test, y_train, y_test = train_test_split(X, y, test_size = 0.25, random_state = 0)"
   ]
  },
  {
   "cell_type": "code",
   "execution_count": 40,
   "id": "f26c76ae-9463-4652-b3f3-9be0dbd0c65b",
   "metadata": {},
   "outputs": [],
   "source": [
    "from sklearn.linear_model import LogisticRegression\n",
    "lr_classifier = LogisticRegression(random_state = 0,solver='lbfgs',max_iter=500)\n",
    "lr_classifier.fit(X_train, y_train)\n",
    "lr_pred = lr_classifier.predict(X_test)\n",
    "\n",
    "from sklearn.neighbors import KNeighborsClassifier\n",
    "knn_classifier = KNeighborsClassifier(n_neighbors = 5, metric = 'minkowski', p = 2)\n",
    "knn_classifier.fit(X_train, y_train)\n",
    "knn_pred = knn_classifier.predict(X_test)\n",
    "\n",
    "from sklearn.svm import SVC\n",
    "ksvc_classifier = SVC(kernel = 'rbf', random_state = 0)\n",
    "ksvc_classifier.fit(X_train, y_train)\n",
    "ksvc_pred = ksvc_classifier.predict(X_test)\n",
    "\n",
    "from sklearn.svm import SVC\n",
    "svc_classifier = SVC(kernel = 'linear', random_state = 0)\n",
    "svc_classifier.fit(X_train, y_train)\n",
    "svc_pred = svc_classifier.predict(X_test)\n",
    "\n",
    "from sklearn.naive_bayes import GaussianNB\n",
    "nb_classifier = GaussianNB()\n",
    "nb_classifier.fit(X_train, y_train)\n",
    "nb_pred = nb_classifier.predict(X_test)\n",
    "\n",
    "from sklearn.tree import DecisionTreeClassifier\n",
    "dt_classifier = DecisionTreeClassifier(criterion = 'entropy', random_state = 0)\n",
    "dt_classifier.fit(X_train, y_train)\n",
    "dt_pred = dt_classifier.predict(X_test)\n",
    "\n",
    "from sklearn.ensemble import RandomForestClassifier\n",
    "rf_classifier = RandomForestClassifier(n_estimators = 10, criterion = 'entropy', random_state = 0)\n",
    "rf_classifier.fit(X_train, y_train)\n",
    "rf_pred = rf_classifier.predict(X_test)"
   ]
  },
  {
   "cell_type": "code",
   "execution_count": 41,
   "id": "11b29412-7dcb-4580-880d-180c50d15d4b",
   "metadata": {},
   "outputs": [],
   "source": [
    "results={}\n",
    "def evaluate_model(model_name, y_pred):\n",
    "    accuracy = accuracy_score(y_test, y_pred)\n",
    "    precision = precision_score(y_test, y_pred, average='weighted')\n",
    "    recall = recall_score(y_test, y_pred, average='weighted')\n",
    "    f1 = f1_score(y_test, y_pred, average='weighted')\n",
    "    results[model_name] = {\n",
    "        \"Accuracy\": accuracy,\n",
    "        \"Precision\": precision,\n",
    "        \"Recall\": recall,\n",
    "        \"F1 Score\": f1\n",
    "    }"
   ]
  },
  {
   "cell_type": "code",
   "execution_count": 42,
   "id": "080626ac-8d7e-4266-8283-1e32b61da2a2",
   "metadata": {},
   "outputs": [
    {
     "name": "stdout",
     "output_type": "stream",
     "text": [
      "lr {'Accuracy': 1.0, 'Precision': 1.0, 'Recall': 1.0, 'F1 Score': 1.0}\n",
      "knn {'Accuracy': 1.0, 'Precision': 1.0, 'Recall': 1.0, 'F1 Score': 1.0}\n",
      "ksvc {'Accuracy': 1.0, 'Precision': 1.0, 'Recall': 1.0, 'F1 Score': 1.0}\n",
      "svc {'Accuracy': 1.0, 'Precision': 1.0, 'Recall': 1.0, 'F1 Score': 1.0}\n",
      "nb {'Accuracy': 1.0, 'Precision': 1.0, 'Recall': 1.0, 'F1 Score': 1.0}\n",
      "dt {'Accuracy': 0.9736842105263158, 'Precision': 0.9752321981424149, 'Recall': 0.9736842105263158, 'F1 Score': 0.9733089408012008}\n",
      "rf {'Accuracy': 1.0, 'Precision': 1.0, 'Recall': 1.0, 'F1 Score': 1.0}\n"
     ]
    }
   ],
   "source": [
    "evaluate_model(\"lr\",lr_pred)\n",
    "evaluate_model(\"knn\",knn_pred)\n",
    "evaluate_model(\"ksvc\",ksvc_pred)\n",
    "evaluate_model(\"svc\",svc_pred)\n",
    "evaluate_model(\"nb\",nb_pred)\n",
    "evaluate_model(\"dt\",dt_pred)\n",
    "evaluate_model(\"rf\",rf_pred)\n",
    "\n",
    "for i in results:\n",
    "    print(i,results[i])"
   ]
  },
  {
   "cell_type": "code",
   "execution_count": null,
   "id": "6be119aa-f4b5-4f07-a117-5e0433a48c56",
   "metadata": {},
   "outputs": [],
   "source": []
  },
  {
   "cell_type": "code",
   "execution_count": null,
   "id": "a5ad575b-fb6f-4b0a-9532-ec76554b1e36",
   "metadata": {},
   "outputs": [],
   "source": []
  }
 ],
 "metadata": {
  "kernelspec": {
   "display_name": "Python 3 (ipykernel)",
   "language": "python",
   "name": "python3"
  },
  "language_info": {
   "codemirror_mode": {
    "name": "ipython",
    "version": 3
   },
   "file_extension": ".py",
   "mimetype": "text/x-python",
   "name": "python",
   "nbconvert_exporter": "python",
   "pygments_lexer": "ipython3",
   "version": "3.11.4"
  }
 },
 "nbformat": 4,
 "nbformat_minor": 5
}
