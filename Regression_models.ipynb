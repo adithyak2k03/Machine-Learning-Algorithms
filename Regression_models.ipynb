{
 "cells": [
  {
   "cell_type": "markdown",
   "id": "3f5f4f02-ff8f-471e-a5d2-9d3051f6e28b",
   "metadata": {},
   "source": [
    "# Import libraries"
   ]
  },
  {
   "cell_type": "code",
   "execution_count": 1,
   "id": "db8005e5-b50d-4bb0-9595-7ab274294df0",
   "metadata": {},
   "outputs": [],
   "source": [
    "import numpy as np\n",
    "import matplotlib.pyplot as plt\n",
    "from sklearn import datasets\n",
    "from sklearn.model_selection import train_test_split\n",
    "from sklearn.linear_model import LinearRegression, Ridge, Lasso\n",
    "from sklearn.svm import SVR\n",
    "from sklearn.tree import DecisionTreeRegressor\n",
    "from sklearn.ensemble import RandomForestRegressor\n",
    "from sklearn.metrics import mean_squared_error, r2_score, mean_absolute_error"
   ]
  },
  {
   "cell_type": "markdown",
   "id": "874129fa-c0b0-4c0d-8d66-7a19c3cf9dc8",
   "metadata": {},
   "source": [
    "# Load the diabetes dataset"
   ]
  },
  {
   "cell_type": "code",
   "execution_count": 2,
   "id": "be261119-542e-4f65-9aef-4403989052ac",
   "metadata": {},
   "outputs": [],
   "source": [
    "diabetes = datasets.load_diabetes()\n",
    "X = diabetes.data\n",
    "y = diabetes.target"
   ]
  },
  {
   "cell_type": "markdown",
   "id": "28d88ddc-411a-48d6-ac75-403792d915b3",
   "metadata": {},
   "source": [
    "# Split the data into training and testing sets"
   ]
  },
  {
   "cell_type": "code",
   "execution_count": null,
   "id": "79bf3b7b-6a40-4472-bf36-cba1c8f76063",
   "metadata": {},
   "outputs": [],
   "source": [
    "X_train, X_test, y_train, y_test = train_test_split(X, y, test_size=0.2, random_state=42)"
   ]
  },
  {
   "cell_type": "markdown",
   "id": "6c59b5ac-2b20-466c-9fa9-554816c73b64",
   "metadata": {},
   "source": [
    "# Defining models"
   ]
  },
  {
   "cell_type": "code",
   "execution_count": 15,
   "id": "2675238c-ccc0-4770-a169-b86b0528d881",
   "metadata": {},
   "outputs": [],
   "source": [
    "lr_model = LinearRegression()\n",
    "ridge_model = Ridge(alpha=1.0)\n",
    "lasso_model=lasso_model = Lasso(alpha=1.0)\n",
    "svm_model = SVR(kernel='linear')\n",
    "dt_model = DecisionTreeRegressor()\n",
    "rf_model = RandomForestRegressor(n_estimators=100)"
   ]
  },
  {
   "cell_type": "markdown",
   "id": "cea097bb-5e5d-4a5f-8138-565332b9b0f3",
   "metadata": {},
   "source": [
    "# Training models, Predicting using models"
   ]
  },
  {
   "cell_type": "code",
   "execution_count": 16,
   "id": "d3ce726a-1ee3-4537-9d37-f11d5c705752",
   "metadata": {},
   "outputs": [],
   "source": [
    "lr_model.fit(X_train, y_train)\n",
    "lr_predictions = lr_model.predict(X_test)\n",
    "\n",
    "svm_model.fit(X_train, y_train)\n",
    "svm_predictions = svm_model.predict(X_test)\n",
    "\n",
    "dt_model.fit(X_train, y_train)\n",
    "dt_predictions = dt_model.predict(X_test)\n",
    "\n",
    "rf_model.fit(X_train, y_train)\n",
    "rf_predictions = rf_model.predict(X_test)\n",
    "\n",
    "ridge_model.fit(X_train, y_train)\n",
    "ridge_predictions = ridge_model.predict(X_test)\n",
    "\n",
    "lasso_model.fit(X_train, y_train)\n",
    "lasso_predictions = lasso_model.predict(X_test)"
   ]
  },
  {
   "cell_type": "markdown",
   "id": "5afce260-4544-4b6f-87dc-d42a8ba64195",
   "metadata": {},
   "source": [
    "# Evaluation metrics : Mean Squared Error, Mean Absolute Error, R-Squared"
   ]
  },
  {
   "cell_type": "code",
   "execution_count": 4,
   "id": "1d633a89-7115-43c9-aacd-c8d24514c710",
   "metadata": {},
   "outputs": [],
   "source": [
    "def evaluate_model(model, predictions):\n",
    "    mse = mean_squared_error(y_test, predictions)\n",
    "    mae = mean_absolute_error(y_test, predictions) \n",
    "    r2 = r2_score(y_test, predictions)\n",
    "    return mse, mae, r2"
   ]
  },
  {
   "cell_type": "code",
   "execution_count": 5,
   "id": "ab1f91dd-63aa-4363-9a03-576348ed1fff",
   "metadata": {},
   "outputs": [
    {
     "name": "stdout",
     "output_type": "stream",
     "text": [
      "Linear Regression:\n",
      "Mean Squared Error: 2900.1936284934814\n",
      "Mean Absolute Error: 42.79409467959994\n",
      "R-squared: 0.4526027629719195\n",
      "\n",
      "Ridge Regression:\n",
      "Mean Squared Error: 3077.41593882723\n",
      "Mean Absolute Error: 46.138857666974516\n",
      "R-squared: 0.41915292635986545\n",
      "\n",
      "Lasso Regression:\n",
      "Mean Squared Error: 3403.5757216070733\n",
      "Mean Absolute Error: 49.73032753662261\n",
      "R-squared: 0.3575918767219115\n",
      "\n",
      "Support Vector Machine (SVM):\n",
      "Mean Squared Error: 5190.387663027928\n",
      "Mean Absolute Error: 61.90453309883161\n",
      "R-squared: 0.020339939398460127\n",
      "\n",
      "Decision Tree:\n",
      "Mean Squared Error: 5009.876404494382\n",
      "Mean Absolute Error: 54.70786516853933\n",
      "R-squared: 0.05441054875465434\n",
      "\n",
      "Random Forest:\n",
      "Mean Squared Error: 3016.273620224719\n",
      "Mean Absolute Error: 44.43505617977528\n",
      "R-squared: 0.43069323730313547\n"
     ]
    }
   ],
   "source": [
    "lr_mse, lr_mae, lr_r2 = evaluate_model(lr_model, lr_predictions)\n",
    "ridge_mse, ridge_mae, ridge_r2 = evaluate_model(ridge_model, ridge_predictions)\n",
    "lasso_mse, lasso_mae, lasso_r2 = evaluate_model(lasso_model, lasso_predictions)\n",
    "svm_mse, svm_mae, svm_r2 = evaluate_model(svm_model, svm_predictions)\n",
    "dt_mse, dt_mae, dt_r2 = evaluate_model(dt_model, dt_predictions)\n",
    "rf_mse, rf_mae, rf_r2 = evaluate_model(rf_model, rf_predictions)\n",
    "\n",
    "\n",
    "print(\"Linear Regression:\")\n",
    "print(\"Mean Squared Error:\", lr_mse)\n",
    "print(\"Mean Absolute Error:\", lr_mae)  \n",
    "print(\"R-squared:\", lr_r2)\n",
    "\n",
    "print(\"\\nRidge Regression:\")\n",
    "print(\"Mean Squared Error:\", ridge_mse)\n",
    "print(\"Mean Absolute Error:\", ridge_mae)  \n",
    "print(\"R-squared:\", ridge_r2)\n",
    "\n",
    "print(\"\\nLasso Regression:\")\n",
    "print(\"Mean Squared Error:\", lasso_mse)\n",
    "print(\"Mean Absolute Error:\", lasso_mae)  \n",
    "print(\"R-squared:\", lasso_r2)\n",
    "\n",
    "print(\"\\nSupport Vector Machine (SVM):\")\n",
    "print(\"Mean Squared Error:\", svm_mse)\n",
    "print(\"Mean Absolute Error:\", svm_mae)  \n",
    "print(\"R-squared:\", svm_r2)\n",
    "\n",
    "print(\"\\nDecision Tree:\")\n",
    "print(\"Mean Squared Error:\", dt_mse)\n",
    "print(\"Mean Absolute Error:\", dt_mae)  \n",
    "print(\"R-squared:\", dt_r2)\n",
    "\n",
    "print(\"\\nRandom Forest:\")\n",
    "print(\"Mean Squared Error:\", rf_mse)\n",
    "print(\"Mean Absolute Error:\", rf_mae)  \n",
    "print(\"R-squared:\", rf_r2)\n"
   ]
  },
  {
   "cell_type": "code",
   "execution_count": null,
   "id": "15ebd53f-0849-4f71-a5be-ffcb8725734a",
   "metadata": {},
   "outputs": [],
   "source": []
  }
 ],
 "metadata": {
  "kernelspec": {
   "display_name": "Python 3 (ipykernel)",
   "language": "python",
   "name": "python3"
  },
  "language_info": {
   "codemirror_mode": {
    "name": "ipython",
    "version": 3
   },
   "file_extension": ".py",
   "mimetype": "text/x-python",
   "name": "python",
   "nbconvert_exporter": "python",
   "pygments_lexer": "ipython3",
   "version": "3.11.4"
  }
 },
 "nbformat": 4,
 "nbformat_minor": 5
}
